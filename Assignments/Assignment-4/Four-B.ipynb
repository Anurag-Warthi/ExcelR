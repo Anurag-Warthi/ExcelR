{
 "cells": [
  {
   "cell_type": "markdown",
   "id": "ec15d7e7",
   "metadata": {},
   "source": [
    "### Null Hypothesis (H0): There is no association between device type and customer satisfaction.\n",
    "\n",
    "### Alternate Hypothesis (H1): There is an association between device type and customer satisfaction."
   ]
  },
  {
   "cell_type": "code",
   "execution_count": 1,
   "id": "6d691241",
   "metadata": {},
   "outputs": [],
   "source": [
    "import numpy as np\n",
    "import scipy.stats as stats"
   ]
  },
  {
   "cell_type": "code",
   "execution_count": 2,
   "id": "2ccec834",
   "metadata": {},
   "outputs": [],
   "source": [
    "df = np.array([\n",
    "    [50, 70],\n",
    "    [80, 100],\n",
    "    [60, 90],\n",
    "    [30, 50],\n",
    "    [20, 50]\n",
    "])"
   ]
  },
  {
   "cell_type": "code",
   "execution_count": 3,
   "id": "28616c5a",
   "metadata": {},
   "outputs": [
    {
     "data": {
      "text/plain": [
       "Chi2ContingencyResult(statistic=np.float64(5.638227513227513), pvalue=np.float64(0.22784371130697176), dof=4, expected_freq=array([[ 48.,  72.],\n",
       "       [ 72., 108.],\n",
       "       [ 60.,  90.],\n",
       "       [ 32.,  48.],\n",
       "       [ 28.,  42.]]))"
      ]
     },
     "execution_count": 3,
     "metadata": {},
     "output_type": "execute_result"
    }
   ],
   "source": [
    "stats.chi2_contingency(df)"
   ]
  },
  {
   "cell_type": "markdown",
   "id": "19912120",
   "metadata": {},
   "source": [
    "chi2_stat = 5.6382\n",
    "\n",
    "p_value = 0.2278\n",
    "\n",
    "dof = 4\n",
    "\n",
    "alpha = 0.05\n",
    "\n",
    "p_value > alpha\n",
    "\n",
    "0.2278 > 0.05"
   ]
  },
  {
   "cell_type": "markdown",
   "id": "57446d44",
   "metadata": {},
   "source": [
    "#### Fail to reject the null hypothesis. There is no association between device type and customer satisfaction."
   ]
  },
  {
   "cell_type": "markdown",
   "id": "2ce8fea8",
   "metadata": {},
   "source": []
  }
 ],
 "metadata": {
  "kernelspec": {
   "display_name": "new_environment",
   "language": "python",
   "name": "python3"
  },
  "language_info": {
   "codemirror_mode": {
    "name": "ipython",
    "version": 3
   },
   "file_extension": ".py",
   "mimetype": "text/x-python",
   "name": "python",
   "nbconvert_exporter": "python",
   "pygments_lexer": "ipython3",
   "version": "3.12.0"
  }
 },
 "nbformat": 4,
 "nbformat_minor": 5
}
