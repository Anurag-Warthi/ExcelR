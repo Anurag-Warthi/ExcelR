{
 "cells": [
  {
   "cell_type": "markdown",
   "id": "56cff36a",
   "metadata": {},
   "source": [
    "Task 1: Hypothesis Statements\n",
    "\n",
    "H(0): mu <= 1000 + 5(600): mu <= 4000: The mean weekly operating cost follows the theoretical model.\n",
    "\n",
    "H(1): mu > 4000: The mean weekly operating cost is greater than the theoretical model.\n",
    "\n",
    "x = 3050, mu = 4000, std = 5*25 =125, n = 25"
   ]
  },
  {
   "cell_type": "code",
   "execution_count": 1,
   "id": "9361b916",
   "metadata": {},
   "outputs": [],
   "source": [
    "sample_mean = 3050\n",
    "theoretical_mean = 4000\n",
    "sigma = 5*25\n",
    "n = 25\n",
    "alpha = 0.05"
   ]
  },
  {
   "cell_type": "code",
   "execution_count": 2,
   "id": "b66de8be",
   "metadata": {},
   "outputs": [],
   "source": [
    "import numpy as np\n",
    "import scipy.stats as stats"
   ]
  },
  {
   "cell_type": "code",
   "execution_count": 3,
   "id": "80d4b096",
   "metadata": {},
   "outputs": [
    {
     "data": {
      "text/plain": [
       "np.float64(-38.0)"
      ]
     },
     "execution_count": 3,
     "metadata": {},
     "output_type": "execute_result"
    }
   ],
   "source": [
    "t_stat = (sample_mean - theoretical_mean)/(sigma / np.sqrt(n))\n",
    "t_stat"
   ]
  },
  {
   "cell_type": "code",
   "execution_count": 4,
   "id": "c16a047c",
   "metadata": {},
   "outputs": [
    {
     "data": {
      "text/plain": [
       "np.float64(1.644853626951472)"
      ]
     },
     "execution_count": 4,
     "metadata": {},
     "output_type": "execute_result"
    }
   ],
   "source": [
    "z_critical = stats.norm.ppf(1 - alpha)\n",
    "z_critical"
   ]
  },
  {
   "cell_type": "markdown",
   "id": "e1c1cc6c",
   "metadata": {},
   "source": [
    "t_stat = -38\n",
    "\n",
    "Z-critical = 1.645\n",
    "\n",
    "t_stat < z-critical: Accept Null Hypothesis (H0)\n",
    "\n",
    "##### Since we fail to reject the null hypothesis  H_0 , there is no strong statistical evidence that the actual weekly operating costs are higher than the theoretical cost model suggests.\n",
    "\n",
    "##### This contradicts the restaurant owners’ claim that costs have increased. However, this test does not provide conclusive evidence that the costs have significantly decreased."
   ]
  }
 ],
 "metadata": {
  "kernelspec": {
   "display_name": "new_environment",
   "language": "python",
   "name": "python3"
  },
  "language_info": {
   "codemirror_mode": {
    "name": "ipython",
    "version": 3
   },
   "file_extension": ".py",
   "mimetype": "text/x-python",
   "name": "python",
   "nbconvert_exporter": "python",
   "pygments_lexer": "ipython3",
   "version": "3.12.0"
  }
 },
 "nbformat": 4,
 "nbformat_minor": 5
}
