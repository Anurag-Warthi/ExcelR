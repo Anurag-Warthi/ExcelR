{
 "cells": [
  {
   "cell_type": "markdown",
   "id": "1151c2c0",
   "metadata": {},
   "source": [
    "#### Exercise 1: Prime Numbers\n",
    "\n",
    "Write a python program that checks whether a given number is prime or not. A prime number is natural number greater than 1 that has no positive divisors other than 1 and itself."
   ]
  },
  {
   "cell_type": "code",
   "execution_count": 2,
   "id": "6d06ed4b",
   "metadata": {},
   "outputs": [
    {
     "name": "stdout",
     "output_type": "stream",
     "text": [
      "9 is not a prime number\n"
     ]
    }
   ],
   "source": [
    "import math\n",
    "num = int(input(\"Enter the number you want to check: \"))\n",
    "\n",
    "if num < 2:\n",
    "    print(\"Number is less than 2. 2 is the only lowest prime number.\")\n",
    "elif num == 2:\n",
    "    print(\"It is a prime number\")\n",
    "else:\n",
    "    is_prime = True\n",
    "    for i in range(2, int(math.sqrt(num)) + 1):\n",
    "        if num % i == 0:\n",
    "            is_prime = False\n",
    "            break\n",
    "    \n",
    "    if is_prime:\n",
    "        print(f\"{num} is a prime number\")\n",
    "    else:\n",
    "        print(f\"{num} is not a prime number\")"
   ]
  },
  {
   "cell_type": "markdown",
   "id": "293b2c12",
   "metadata": {},
   "source": [
    "#### Exercise 2: Product of Random Numbers\n",
    "\n",
    "Develop a python program that generates 2 random numbers and ask the user to enter the product of those numbers. The program should then check if the user's answer is correct and display an appropriate message."
   ]
  },
  {
   "cell_type": "code",
   "execution_count": 3,
   "id": "24fd000e",
   "metadata": {},
   "outputs": [
    {
     "name": "stdout",
     "output_type": "stream",
     "text": [
      "Correct Answer. The Product of 16 and 4 is 64\n"
     ]
    }
   ],
   "source": [
    "import random\n",
    "num1 = random.randint(1, 50)\n",
    "num2 = random.randint(1, 50)\n",
    "\n",
    "product = int(input(f\"What is the product of {num1} * {num2}? \"))\n",
    "correct_prod = num1 * num2\n",
    "\n",
    "if correct_prod == product:\n",
    "    print(f\"Correct Answer. The Product of {num1} and {num2} is {correct_prod}\")\n",
    "else:\n",
    "    print(f\"Wrong Answer. The Product of {num1} and {num2} is {correct_prod}\")"
   ]
  },
  {
   "cell_type": "markdown",
   "id": "8064d2fb",
   "metadata": {},
   "source": [
    "#### Exercise 3: Squares of Even/Odd Numbers\n",
    "\n",
    "Create a python script that prints the squares of all even or odd numbers within the range of 100 to 200. Choose either even or odd numbers and document your choice in the code."
   ]
  },
  {
   "cell_type": "code",
   "execution_count": 4,
   "id": "2fc5c2b2",
   "metadata": {},
   "outputs": [
    {
     "name": "stdout",
     "output_type": "stream",
     "text": [
      "Square of 100 is 10000\n",
      "Square of 102 is 10404\n",
      "Square of 104 is 10816\n",
      "Square of 106 is 11236\n",
      "Square of 108 is 11664\n",
      "Square of 110 is 12100\n",
      "Square of 112 is 12544\n",
      "Square of 114 is 12996\n",
      "Square of 116 is 13456\n",
      "Square of 118 is 13924\n",
      "Square of 120 is 14400\n",
      "Square of 122 is 14884\n",
      "Square of 124 is 15376\n",
      "Square of 126 is 15876\n",
      "Square of 128 is 16384\n",
      "Square of 130 is 16900\n",
      "Square of 132 is 17424\n",
      "Square of 134 is 17956\n",
      "Square of 136 is 18496\n",
      "Square of 138 is 19044\n",
      "Square of 140 is 19600\n",
      "Square of 142 is 20164\n",
      "Square of 144 is 20736\n",
      "Square of 146 is 21316\n",
      "Square of 148 is 21904\n",
      "Square of 150 is 22500\n",
      "Square of 152 is 23104\n",
      "Square of 154 is 23716\n",
      "Square of 156 is 24336\n",
      "Square of 158 is 24964\n",
      "Square of 160 is 25600\n",
      "Square of 162 is 26244\n",
      "Square of 164 is 26896\n",
      "Square of 166 is 27556\n",
      "Square of 168 is 28224\n",
      "Square of 170 is 28900\n",
      "Square of 172 is 29584\n",
      "Square of 174 is 30276\n",
      "Square of 176 is 30976\n",
      "Square of 178 is 31684\n",
      "Square of 180 is 32400\n",
      "Square of 182 is 33124\n",
      "Square of 184 is 33856\n",
      "Square of 186 is 34596\n",
      "Square of 188 is 35344\n",
      "Square of 190 is 36100\n",
      "Square of 192 is 36864\n",
      "Square of 194 is 37636\n",
      "Square of 196 is 38416\n",
      "Square of 198 is 39204\n",
      "Square of 200 is 40000\n"
     ]
    }
   ],
   "source": [
    "e_or_o = input(\"Even or Odd: \").lower()\n",
    "\n",
    "if e_or_o == \"even\":\n",
    "    for num in range(100, 201):\n",
    "        if num % 2 == 0:\n",
    "            print(f\"Square of {num} is {num ** 2}\")\n",
    "elif e_or_o == 'odd':\n",
    "    for num in range(100, 201):\n",
    "        if num % 2 != 0:\n",
    "            print(f\"Square of {num} is {num ** 2}\")\n",
    "else:\n",
    "    print(\"Wrong Input Given. Please Enter 'Even' or 'Odd'\")"
   ]
  },
  {
   "cell_type": "markdown",
   "id": "b2368836",
   "metadata": {},
   "source": [
    "#### Exercise 4: Word Counter\n",
    "\n",
    "Write a python program to count the number of words in a given text."
   ]
  },
  {
   "cell_type": "code",
   "execution_count": 6,
   "id": "c9126887",
   "metadata": {},
   "outputs": [
    {
     "name": "stdout",
     "output_type": "stream",
     "text": [
      "This is a sample text. This will be used to demonstrate the word counter.\n",
      "This: 2\n",
      "is: 1\n",
      "a: 1\n",
      "sample: 1\n",
      "text.: 1\n",
      "will: 1\n",
      "be: 1\n",
      "used: 1\n",
      "to: 1\n",
      "demonstrate: 1\n",
      "the: 1\n",
      "word: 1\n",
      "counter.: 1\n"
     ]
    }
   ],
   "source": [
    "text = input(\"Give a sentence: \")\n",
    "print(text)\n",
    "words = text.split()\n",
    "word_count = {}\n",
    "\n",
    "for word in words:\n",
    "    if word in word_count:\n",
    "        word_count[word] += 1\n",
    "    else:\n",
    "        word_count[word] = 1\n",
    "\n",
    "for word, count in word_count.items():\n",
    "    print(f\"{word}: {count}\")"
   ]
  },
  {
   "cell_type": "markdown",
   "id": "d4de3ff9",
   "metadata": {},
   "source": [
    "#### Exercise 5: Check for Palindrome\n",
    "\n",
    "Write a python function called is_palindrome that takes a string as input and returns True if the string is a palindrome, and False otherwise. A palindrome is a word, phrase, number, or other sequences of characters that reads the same forward and backward, ignoring spaces, punctuation, and capitalization."
   ]
  },
  {
   "cell_type": "code",
   "execution_count": 7,
   "id": "ce64770d",
   "metadata": {},
   "outputs": [],
   "source": [
    "import string\n",
    "def is_palindrome(text):\n",
    "    text = text.lower()\n",
    "    \n",
    "    cleaned_text = \"\"\n",
    "    for char in text:\n",
    "        if char.isalnum():\n",
    "            cleaned_text += char\n",
    "    text = cleaned_text\n",
    "    \n",
    "    if text == text[::-1]:\n",
    "        return True\n",
    "    else:\n",
    "        return False"
   ]
  },
  {
   "cell_type": "code",
   "execution_count": 8,
   "id": "e23848fa",
   "metadata": {},
   "outputs": [
    {
     "data": {
      "text/plain": [
       "True"
      ]
     },
     "execution_count": 8,
     "metadata": {},
     "output_type": "execute_result"
    }
   ],
   "source": [
    "is_palindrome(\"racecar\")"
   ]
  },
  {
   "cell_type": "code",
   "execution_count": null,
   "id": "f6397c12",
   "metadata": {},
   "outputs": [],
   "source": []
  }
 ],
 "metadata": {
  "kernelspec": {
   "display_name": "new_environment",
   "language": "python",
   "name": "python3"
  },
  "language_info": {
   "codemirror_mode": {
    "name": "ipython",
    "version": 3
   },
   "file_extension": ".py",
   "mimetype": "text/x-python",
   "name": "python",
   "nbconvert_exporter": "python",
   "pygments_lexer": "ipython3",
   "version": "3.12.0"
  }
 },
 "nbformat": 4,
 "nbformat_minor": 5
}
