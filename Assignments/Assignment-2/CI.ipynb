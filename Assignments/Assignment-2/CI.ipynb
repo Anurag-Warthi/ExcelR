{
 "cells": [
  {
   "cell_type": "markdown",
   "id": "462517f9",
   "metadata": {},
   "source": [
    "### Task 1: Building 99% confidence interval using sample standard deviation\n",
    "\n",
    "Since we do not know the population standard deviation and the sample size is less than 30, we use t-distribution to construct the confidence interval."
   ]
  },
  {
   "cell_type": "code",
   "execution_count": 1,
   "id": "ef85a7c0",
   "metadata": {},
   "outputs": [],
   "source": [
    "import numpy as np"
   ]
  },
  {
   "cell_type": "code",
   "execution_count": 2,
   "id": "59c053bf",
   "metadata": {},
   "outputs": [],
   "source": [
    "data = np.array([1.13, 1.55, 1.43, 0.92, 1.25, 1.36, 1.32, 0.85, 1.07, 1.48, 1.20, 1.33, 1.18, 1.22, 1.29])\n",
    "n = len(data)"
   ]
  },
  {
   "cell_type": "code",
   "execution_count": 3,
   "id": "e85dd8d4",
   "metadata": {},
   "outputs": [],
   "source": [
    "sample_mean = np.mean(data)\n",
    "sample_std = np.std(data)"
   ]
  },
  {
   "cell_type": "code",
   "execution_count": 4,
   "id": "32c705d1",
   "metadata": {},
   "outputs": [],
   "source": [
    "confidence_level = 0.99\n",
    "alpha = 1 - confidence_level"
   ]
  },
  {
   "cell_type": "code",
   "execution_count": 5,
   "id": "f22fd2bd",
   "metadata": {},
   "outputs": [],
   "source": [
    "import scipy.stats as stats"
   ]
  },
  {
   "cell_type": "code",
   "execution_count": 6,
   "id": "f2f3386c",
   "metadata": {},
   "outputs": [],
   "source": [
    "t_critical = stats.t.ppf(1 - alpha/2, df=n-1)\n",
    "margin_of_error_t = t_critical * (sample_std / np.sqrt(n))\n",
    "confidenceinterval_t = (np.round(sample_mean - margin_of_error_t, 4), np.round(sample_mean + margin_of_error_t, 4))"
   ]
  },
  {
   "cell_type": "code",
   "execution_count": 7,
   "id": "3a761d1b",
   "metadata": {},
   "outputs": [
    {
     "name": "stdout",
     "output_type": "stream",
     "text": [
      "(np.float64(1.0952), np.float64(1.3821))\n"
     ]
    }
   ],
   "source": [
    "print(confidenceinterval_t)"
   ]
  },
  {
   "cell_type": "markdown",
   "id": "6954d742",
   "metadata": {},
   "source": [
    "##### 99% confidence interval using t-distribution: (1.0952, 1.3821) million characters"
   ]
  },
  {
   "cell_type": "markdown",
   "id": "8fbc2ff0",
   "metadata": {},
   "source": [
    "### Building 99% confidence interval using known population standard deviation"
   ]
  },
  {
   "cell_type": "code",
   "execution_count": 8,
   "id": "f18973d2",
   "metadata": {},
   "outputs": [],
   "source": [
    "population_std = 0.2\n",
    "z_critical = stats.norm.ppf(1-alpha/2)\n",
    "margin_of_error_z = z_critical * (population_std / np.sqrt(n))\n",
    "confidence_interval_z = (np.round(sample_mean - margin_of_error_z, 4), np.round(sample_mean + margin_of_error_z, 4))"
   ]
  },
  {
   "cell_type": "code",
   "execution_count": 9,
   "id": "f075acec",
   "metadata": {},
   "outputs": [
    {
     "name": "stdout",
     "output_type": "stream",
     "text": [
      "(np.float64(1.1057), np.float64(1.3717))\n"
     ]
    }
   ],
   "source": [
    "print(confidence_interval_z)"
   ]
  },
  {
   "cell_type": "markdown",
   "id": "6fdecbd1",
   "metadata": {},
   "source": [
    "##### 99% confidence interval using z-distribution: (1.1057, 1.3717) million characters"
   ]
  },
  {
   "cell_type": "markdown",
   "id": "7a765134",
   "metadata": {},
   "source": []
  }
 ],
 "metadata": {
  "kernelspec": {
   "display_name": "new_environment",
   "language": "python",
   "name": "python3"
  },
  "language_info": {
   "codemirror_mode": {
    "name": "ipython",
    "version": 3
   },
   "file_extension": ".py",
   "mimetype": "text/x-python",
   "name": "python",
   "nbconvert_exporter": "python",
   "pygments_lexer": "ipython3",
   "version": "3.12.0"
  }
 },
 "nbformat": 4,
 "nbformat_minor": 5
}
